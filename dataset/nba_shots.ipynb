{
 "cells": [
  {
   "cell_type": "markdown",
   "metadata": {},
   "source": [
    "# Links"
   ]
  },
  {
   "cell_type": "code",
   "execution_count": 1,
   "metadata": {},
   "outputs": [
    {
     "name": "stdout",
     "output_type": "stream",
     "text": [
      "Collecting nba_api\n",
      "  Using cached nba_api-1.1.9-py3-none-any.whl (242 kB)\n",
      "Requirement already satisfied: requests in c:\\users\\danie\\anaconda3\\lib\\site-packages (from nba_api) (2.24.0)\n",
      "Requirement already satisfied: urllib3!=1.25.0,!=1.25.1,<1.26,>=1.21.1 in c:\\users\\danie\\anaconda3\\lib\\site-packages (from requests->nba_api) (1.25.11)\n",
      "Requirement already satisfied: idna<3,>=2.5 in c:\\users\\danie\\anaconda3\\lib\\site-packages (from requests->nba_api) (2.10)\n",
      "Requirement already satisfied: chardet<4,>=3.0.2 in c:\\users\\danie\\anaconda3\\lib\\site-packages (from requests->nba_api) (3.0.4)\n",
      "Requirement already satisfied: certifi>=2017.4.17 in c:\\users\\danie\\anaconda3\\lib\\site-packages (from requests->nba_api) (2020.6.20)\n",
      "Installing collected packages: nba-api\n",
      "Successfully installed nba-api-1.1.9\n"
     ]
    }
   ],
   "source": [
    "import sys\n",
    "!{sys.executable} -m pip install nba_api"
   ]
  },
  {
   "cell_type": "code",
   "execution_count": 1,
   "metadata": {},
   "outputs": [],
   "source": [
    "from nba_api.stats.endpoints import commonallplayers\n",
    "from nba_api.stats.endpoints import shotchartdetail\n",
    "import json\n",
    "import pandas as pd\n",
    "import time\n",
    "import requests\n"
   ]
  },
  {
   "cell_type": "code",
   "execution_count": 2,
   "metadata": {},
   "outputs": [],
   "source": [
    "def transform_to_df(content):\n",
    "    results = content['resultSets'][0]\n",
    "    headers = results['headers']\n",
    "    rows = results['rowSet']\n",
    "    df = pd.DataFrame(rows)\n",
    "    df.columns = headers\n",
    "    return df"
   ]
  },
  {
   "cell_type": "code",
   "execution_count": 16,
   "metadata": {},
   "outputs": [],
   "source": [
    "headers = {\n",
    "    'Host': 'stats.nba.com',\n",
    "    'Connection': 'keep-alive',\n",
    "    'Cache-Control': 'max-age=0',\n",
    "    'Upgrade-Insecure-Requests': '1',\n",
    "    'User-Agent': 'Mozilla/5.0 (Macintosh; Intel Mac OS X 10_14_3) AppleWebKit/537.36 (KHTML, like Gecko) Chrome/73.0.3683.86 Safari/537.36',\n",
    "    'Accept': 'text/html,application/xhtml+xml,application/xml;q=0.9,image/webp,image/apng,*/*;q=0.8,application/signed-exchange;v=b3',\n",
    "    'Accept-Encoding': 'gzip, deflate, br',\n",
    "    'Accept-Language': 'en-US,en;q=0.9',\n",
    "}\n"
   ]
  },
  {
   "cell_type": "code",
   "execution_count": 25,
   "metadata": {},
   "outputs": [],
   "source": [
    "players_by_season = {}\n",
    "for i in range(10,21):\n",
    "    ini=i\n",
    "    fin=i+1\n",
    "    season=\"20\"+str(i)+\"-\"+str(fin)\n",
    "    response = commonallplayers.CommonAllPlayers(\n",
    "        season=season,\n",
    "        league_id=\"00\"\n",
    "    )\n",
    "\n",
    "    content = json.loads(response.get_json())\n",
    "    players = transform_to_df(content)\n",
    "    players = players[players['ROSTERSTATUS']==1]['PERSON_ID']\n",
    "    players_by_season[season] = players\n"
   ]
  },
  {
   "cell_type": "code",
   "execution_count": 3,
   "metadata": {},
   "outputs": [],
   "source": [
    "'''\n",
    "response = commonallplayers.CommonAllPlayers(\n",
    "    season='2018-19',\n",
    "    league_id=\"00\"\n",
    ")\n",
    "\n",
    "content = json.loads(response.get_json())\n",
    "players = transform_to_df(content)\n",
    "players = players[players['ROSTERSTATUS']==1]['PERSON_ID']\n",
    "'''"
   ]
  },
  {
   "cell_type": "code",
   "execution_count": 65,
   "metadata": {},
   "outputs": [
    {
     "data": {
      "text/plain": [
       "'\\nshots = pd.DataFrame()\\nfor p in players[0:5]:\\n    response = shotchartdetail.ShotChartDetail(\\n        team_id=0,\\n        player_id=p,\\n        season_nullable=\\'2018-19\\',\\n        context_measure_simple= \\'FGA\\',\\n        league_id=\"00\",\\n    )\\n    \\n    time.sleep(0.2)\\n    try:\\n        content = json.loads(response.get_json())\\n        player_shots = transform_to_df(content)\\n        shots = shots.append(player_shots)\\n    except:\\n        print(p)\\n'"
      ]
     },
     "execution_count": 65,
     "metadata": {},
     "output_type": "execute_result"
    }
   ],
   "source": [
    "'''\n",
    "shots = pd.DataFrame()\n",
    "for p in players[0:5]:\n",
    "    response = shotchartdetail.ShotChartDetail(\n",
    "        team_id=0,\n",
    "        player_id=p,\n",
    "        season_nullable='2018-19',\n",
    "        context_measure_simple= 'FGA',\n",
    "        league_id=\"00\",\n",
    "    )\n",
    "    \n",
    "    time.sleep(0.2)\n",
    "    try:\n",
    "        content = json.loads(response.get_json())\n",
    "        player_shots = transform_to_df(content)\n",
    "        shots = shots.append(player_shots)\n",
    "    except:\n",
    "        print(p)\n",
    "'''"
   ]
  },
  {
   "cell_type": "code",
   "execution_count": 43,
   "metadata": {},
   "outputs": [],
   "source": [
    "def get_shotchart(season,players):\n",
    "    shots = pd.DataFrame()\n",
    "    i=0\n",
    "    for p in players:\n",
    "        i+=1\n",
    "        if i%100==0:\n",
    "            print(\"Player {0}\".format(i))\n",
    "        response = shotchartdetail.ShotChartDetail(\n",
    "            team_id=0,\n",
    "            player_id=p,\n",
    "            season_nullable=season,\n",
    "            context_measure_simple= 'FGA',\n",
    "            league_id=\"00\",\n",
    "        )\n",
    "\n",
    "        time.sleep(0.2)\n",
    "        try:\n",
    "            content = json.loads(response.get_json())\n",
    "            player_shots = transform_to_df(content)\n",
    "            shots = shots.append(player_shots)\n",
    "        except:\n",
    "            print(p)\n",
    "    return shots"
   ]
  },
  {
   "cell_type": "code",
   "execution_count": 44,
   "metadata": {},
   "outputs": [
    {
     "name": "stdout",
     "output_type": "stream",
     "text": [
      "202392\n",
      "202364\n",
      "201973\n",
      "202371\n",
      "201141\n",
      "202350\n",
      "2457\n",
      "202375\n",
      "201987\n",
      "202358\n",
      "202355\n",
      "202343\n"
     ]
    }
   ],
   "source": [
    "season=\"2010-11\"\n",
    "nba_shotchart_10_11 = get_shotchart(season,players_by_season[season])"
   ]
  },
  {
   "cell_type": "code",
   "execution_count": 51,
   "metadata": {},
   "outputs": [
    {
     "name": "stdout",
     "output_type": "stream",
     "text": [
      "201589\n",
      "202067\n"
     ]
    }
   ],
   "source": [
    "season=\"2011-12\"\n",
    "nba_shotchart_11_12 = get_shotchart(season,players_by_season[season])"
   ]
  },
  {
   "cell_type": "code",
   "execution_count": 52,
   "metadata": {},
   "outputs": [
    {
     "name": "stdout",
     "output_type": "stream",
     "text": [
      "101115\n",
      "101112\n",
      "201590\n",
      "101204\n",
      "1503\n",
      "202077\n",
      "203186\n",
      "201565\n",
      "203091\n",
      "202343\n"
     ]
    }
   ],
   "source": [
    "season=\"2012-13\"\n",
    "nba_shotchart_12_13 = get_shotchart(season,players_by_season[season])"
   ]
  },
  {
   "cell_type": "code",
   "execution_count": 53,
   "metadata": {},
   "outputs": [
    {
     "name": "stdout",
     "output_type": "stream",
     "text": [
      "2568\n",
      "203105\n",
      "201568\n",
      "2217\n",
      "203511\n",
      "203457\n",
      "1885\n",
      "2731\n",
      "203186\n",
      "2202\n"
     ]
    }
   ],
   "source": [
    "season=\"2013-14\"\n",
    "nba_shotchart_13_14 = get_shotchart(season,players_by_season[season])"
   ]
  },
  {
   "cell_type": "code",
   "execution_count": 54,
   "metadata": {},
   "outputs": [
    {
     "name": "stdout",
     "output_type": "stream",
     "text": [
      "203569\n",
      "203954\n",
      "203996\n"
     ]
    }
   ],
   "source": [
    "season=\"2014-15\"\n",
    "nba_shotchart_14_15 = get_shotchart(season,players_by_season[season])"
   ]
  },
  {
   "cell_type": "code",
   "execution_count": 64,
   "metadata": {},
   "outputs": [
    {
     "name": "stdout",
     "output_type": "stream",
     "text": [
      "201163\n",
      "1626155\n",
      "203954\n",
      "203957\n",
      "204066\n",
      "202347\n",
      "2748\n"
     ]
    }
   ],
   "source": [
    "season=\"2015-16\"\n",
    "nba_shotchart_15_16 = get_shotchart(season,players_by_season[season])"
   ]
  },
  {
   "cell_type": "code",
   "execution_count": 55,
   "metadata": {},
   "outputs": [
    {
     "name": "stdout",
     "output_type": "stream",
     "text": [
      "2547\n",
      "203105\n",
      "201593\n",
      "202347\n",
      "1627732\n"
     ]
    }
   ],
   "source": [
    "season=\"2016-17\"\n",
    "nba_shotchart_16_17 = get_shotchart(season,players_by_season[season])"
   ]
  },
  {
   "cell_type": "code",
   "execution_count": 56,
   "metadata": {},
   "outputs": [
    {
     "name": "stdout",
     "output_type": "stream",
     "text": [
      "201582\n",
      "203552\n",
      "1628385\n",
      "1628402\n",
      "1628518\n",
      "202688\n",
      "201951\n",
      "1628399\n",
      "1628500\n",
      "203912\n",
      "Player 500\n"
     ]
    }
   ],
   "source": [
    "season=\"2017-18\"\n",
    "nba_shotchart_17_18 = get_shotchart(season,players_by_season[season])"
   ]
  },
  {
   "cell_type": "code",
   "execution_count": 67,
   "metadata": {},
   "outputs": [
    {
     "name": "stdout",
     "output_type": "stream",
     "text": [
      "1629129\n",
      "1626187\n",
      "1629117\n",
      "1626780\n",
      "1628994\n",
      "1628500\n",
      "202389\n",
      "1627749\n",
      "1629134\n",
      "1629341\n",
      "1629008\n",
      "204001\n",
      "203460\n",
      "1627756\n",
      "1627785\n"
     ]
    }
   ],
   "source": [
    "season=\"2018-19\"\n",
    "nba_shotchart_18_19 = get_shotchart(season,players_by_season[season])"
   ]
  },
  {
   "cell_type": "code",
   "execution_count": 57,
   "metadata": {},
   "outputs": [
    {
     "name": "stdout",
     "output_type": "stream",
     "text": [
      "1629121\n",
      "201142\n",
      "203121\n",
      "1629007\n",
      "1629244\n",
      "1628424\n",
      "1629034\n",
      "202691\n",
      "202322\n",
      "1629685\n",
      "Player 500\n",
      "1629624\n"
     ]
    }
   ],
   "source": [
    "season=\"2019-20\"\n",
    "nba_shotchart_19_20 = get_shotchart(season,players_by_season[season])"
   ]
  },
  {
   "cell_type": "code",
   "execution_count": 58,
   "metadata": {},
   "outputs": [
    {
     "name": "stdout",
     "output_type": "stream",
     "text": [
      "1628380\n",
      "1630258\n",
      "1628371\n",
      "202691\n",
      "1630492\n",
      "Player 500\n",
      "1630209\n"
     ]
    }
   ],
   "source": [
    "season=\"2020-21\"\n",
    "nba_shotchart_20_21 = get_shotchart(season,players_by_season[season])"
   ]
  },
  {
   "cell_type": "code",
   "execution_count": 80,
   "metadata": {},
   "outputs": [],
   "source": [
    "nba_shotchart_10_11['SEASON'] = \"2010-11\"\n",
    "nba_shotchart_11_12['SEASON'] = \"2011-12\"\n",
    "nba_shotchart_12_13['SEASON'] = \"2012-13\"\n",
    "nba_shotchart_13_14['SEASON'] = \"2013-14\"\n",
    "nba_shotchart_14_15['SEASON'] = \"2014-15\"\n",
    "nba_shotchart_15_16['SEASON'] = \"2015-16\"\n",
    "nba_shotchart_16_17['SEASON'] = \"2016-17\"\n",
    "nba_shotchart_17_18['SEASON'] = \"2017-18\"\n",
    "nba_shotchart_18_19['SEASON'] = \"2018-19\"\n",
    "nba_shotchart_19_20['SEASON'] = \"2019-20\"\n",
    "nba_shotchart_20_21['SEASON'] = \"2020-21\""
   ]
  },
  {
   "cell_type": "code",
   "execution_count": 81,
   "metadata": {},
   "outputs": [],
   "source": [
    "nba_shotchart_10_11.to_csv(r'C:\\Users\\DANIE\\Desktop\\Data Science\\Visualización de datos\\PRA\\nba_shotchart_10_11.csv',sep=';')\n",
    "nba_shotchart_11_12.to_csv(r'C:\\Users\\DANIE\\Desktop\\Data Science\\Visualización de datos\\PRA\\nba_shotchart_11_12.csv',sep=';')\n",
    "nba_shotchart_12_13.to_csv(r'C:\\Users\\DANIE\\Desktop\\Data Science\\Visualización de datos\\PRA\\nba_shotchart_12_13.csv',sep=';')\n",
    "nba_shotchart_13_14.to_csv(r'C:\\Users\\DANIE\\Desktop\\Data Science\\Visualización de datos\\PRA\\nba_shotchart_13_14.csv',sep=';')\n",
    "nba_shotchart_14_15.to_csv(r'C:\\Users\\DANIE\\Desktop\\Data Science\\Visualización de datos\\PRA\\nba_shotchart_14_15.csv',sep=';')\n",
    "nba_shotchart_15_16.to_csv(r'C:\\Users\\DANIE\\Desktop\\Data Science\\Visualización de datos\\PRA\\nba_shotchart_15_16.csv',sep=';')\n",
    "nba_shotchart_16_17.to_csv(r'C:\\Users\\DANIE\\Desktop\\Data Science\\Visualización de datos\\PRA\\nba_shotchart_16_17.csv',sep=';')\n",
    "nba_shotchart_17_18.to_csv(r'C:\\Users\\DANIE\\Desktop\\Data Science\\Visualización de datos\\PRA\\nba_shotchart_17_18.csv',sep=';')\n",
    "nba_shotchart_18_19.to_csv(r'C:\\Users\\DANIE\\Desktop\\Data Science\\Visualización de datos\\PRA\\nba_shotchart_18_19.csv',sep=';')\n",
    "nba_shotchart_19_20.to_csv(r'C:\\Users\\DANIE\\Desktop\\Data Science\\Visualización de datos\\PRA\\nba_shotchart_19_20.csv',sep=';')\n",
    "nba_shotchart_20_21.to_csv(r'C:\\Users\\DANIE\\Desktop\\Data Science\\Visualización de datos\\PRA\\nba_shotchart_20_21.csv',sep=';')"
   ]
  },
  {
   "cell_type": "code",
   "execution_count": 85,
   "metadata": {},
   "outputs": [],
   "source": [
    "nba_shotchart = pd.concat([nba_shotchart_10_11,nba_shotchart_11_12,nba_shotchart_12_13,nba_shotchart_13_14,nba_shotchart_14_15,\n",
    "                          nba_shotchart_15_16,nba_shotchart_16_17,nba_shotchart_17_18,nba_shotchart_18_19,nba_shotchart_19_20,\n",
    "                          nba_shotchart_20_21])"
   ]
  },
  {
   "cell_type": "code",
   "execution_count": 105,
   "metadata": {},
   "outputs": [],
   "source": [
    "#Se eliminan los tiros de fuera de los límites\n",
    "nba_shotchart = nba_shotchart[nba_shotchart['LOC_X']<=250]\n",
    "nba_shotchart = nba_shotchart[nba_shotchart['LOC_X']>=-250]\n",
    "nba_shotchart = nba_shotchart[nba_shotchart['LOC_Y']<=418]\n",
    "nba_shotchart = nba_shotchart[nba_shotchart['LOC_Y']>=-52]\n",
    "#Se invierten los valores de la coordenada X\n",
    "nba_shotchart['LOC_X'] = -nba_shotchart['LOC_X']"
   ]
  },
  {
   "cell_type": "code",
   "execution_count": 106,
   "metadata": {},
   "outputs": [],
   "source": [
    "nba_shotchart.to_csv(r'C:\\Users\\DANIE\\Desktop\\Data Science\\Visualización de datos\\PRA\\nba_shotchart.csv',sep=';')"
   ]
  },
  {
   "cell_type": "code",
   "execution_count": 115,
   "metadata": {},
   "outputs": [
    {
     "data": {
      "text/html": [
       "<div>\n",
       "<style scoped>\n",
       "    .dataframe tbody tr th:only-of-type {\n",
       "        vertical-align: middle;\n",
       "    }\n",
       "\n",
       "    .dataframe tbody tr th {\n",
       "        vertical-align: top;\n",
       "    }\n",
       "\n",
       "    .dataframe thead th {\n",
       "        text-align: right;\n",
       "    }\n",
       "</style>\n",
       "<table border=\"1\" class=\"dataframe\">\n",
       "  <thead>\n",
       "    <tr style=\"text-align: right;\">\n",
       "      <th></th>\n",
       "      <th>GRID_TYPE</th>\n",
       "      <th>GAME_ID</th>\n",
       "      <th>GAME_EVENT_ID</th>\n",
       "      <th>PLAYER_ID</th>\n",
       "      <th>PLAYER_NAME</th>\n",
       "      <th>TEAM_ID</th>\n",
       "      <th>TEAM_NAME</th>\n",
       "      <th>PERIOD</th>\n",
       "      <th>MINUTES_REMAINING</th>\n",
       "      <th>SECONDS_REMAINING</th>\n",
       "      <th>...</th>\n",
       "      <th>SHOT_ZONE_RANGE</th>\n",
       "      <th>SHOT_DISTANCE</th>\n",
       "      <th>LOC_X</th>\n",
       "      <th>LOC_Y</th>\n",
       "      <th>SHOT_ATTEMPTED_FLAG</th>\n",
       "      <th>SHOT_MADE_FLAG</th>\n",
       "      <th>GAME_DATE</th>\n",
       "      <th>HTM</th>\n",
       "      <th>VTM</th>\n",
       "      <th>SEASON</th>\n",
       "    </tr>\n",
       "  </thead>\n",
       "  <tbody>\n",
       "    <tr>\n",
       "      <th>0</th>\n",
       "      <td>Shot Chart Detail</td>\n",
       "      <td>0021000043</td>\n",
       "      <td>582</td>\n",
       "      <td>202399</td>\n",
       "      <td>Jeff Adrien</td>\n",
       "      <td>1610612744</td>\n",
       "      <td>Golden State Warriors</td>\n",
       "      <td>4</td>\n",
       "      <td>0</td>\n",
       "      <td>4</td>\n",
       "      <td>...</td>\n",
       "      <td>Less Than 8 ft.</td>\n",
       "      <td>1</td>\n",
       "      <td>15</td>\n",
       "      <td>7</td>\n",
       "      <td>1</td>\n",
       "      <td>1</td>\n",
       "      <td>20101031</td>\n",
       "      <td>LAL</td>\n",
       "      <td>GSW</td>\n",
       "      <td>2010-11</td>\n",
       "    </tr>\n",
       "    <tr>\n",
       "      <th>1</th>\n",
       "      <td>Shot Chart Detail</td>\n",
       "      <td>0021000119</td>\n",
       "      <td>288</td>\n",
       "      <td>202399</td>\n",
       "      <td>Jeff Adrien</td>\n",
       "      <td>1610612744</td>\n",
       "      <td>Golden State Warriors</td>\n",
       "      <td>3</td>\n",
       "      <td>6</td>\n",
       "      <td>23</td>\n",
       "      <td>...</td>\n",
       "      <td>Less Than 8 ft.</td>\n",
       "      <td>2</td>\n",
       "      <td>-21</td>\n",
       "      <td>11</td>\n",
       "      <td>1</td>\n",
       "      <td>1</td>\n",
       "      <td>20101111</td>\n",
       "      <td>CHI</td>\n",
       "      <td>GSW</td>\n",
       "      <td>2010-11</td>\n",
       "    </tr>\n",
       "    <tr>\n",
       "      <th>2</th>\n",
       "      <td>Shot Chart Detail</td>\n",
       "      <td>0021000119</td>\n",
       "      <td>292</td>\n",
       "      <td>202399</td>\n",
       "      <td>Jeff Adrien</td>\n",
       "      <td>1610612744</td>\n",
       "      <td>Golden State Warriors</td>\n",
       "      <td>3</td>\n",
       "      <td>5</td>\n",
       "      <td>44</td>\n",
       "      <td>...</td>\n",
       "      <td>8-16 ft.</td>\n",
       "      <td>14</td>\n",
       "      <td>-88</td>\n",
       "      <td>115</td>\n",
       "      <td>1</td>\n",
       "      <td>0</td>\n",
       "      <td>20101111</td>\n",
       "      <td>CHI</td>\n",
       "      <td>GSW</td>\n",
       "      <td>2010-11</td>\n",
       "    </tr>\n",
       "    <tr>\n",
       "      <th>3</th>\n",
       "      <td>Shot Chart Detail</td>\n",
       "      <td>0021000137</td>\n",
       "      <td>299</td>\n",
       "      <td>202399</td>\n",
       "      <td>Jeff Adrien</td>\n",
       "      <td>1610612744</td>\n",
       "      <td>Golden State Warriors</td>\n",
       "      <td>3</td>\n",
       "      <td>5</td>\n",
       "      <td>52</td>\n",
       "      <td>...</td>\n",
       "      <td>Less Than 8 ft.</td>\n",
       "      <td>0</td>\n",
       "      <td>-4</td>\n",
       "      <td>6</td>\n",
       "      <td>1</td>\n",
       "      <td>0</td>\n",
       "      <td>20101113</td>\n",
       "      <td>MIL</td>\n",
       "      <td>GSW</td>\n",
       "      <td>2010-11</td>\n",
       "    </tr>\n",
       "    <tr>\n",
       "      <th>4</th>\n",
       "      <td>Shot Chart Detail</td>\n",
       "      <td>0021000137</td>\n",
       "      <td>308</td>\n",
       "      <td>202399</td>\n",
       "      <td>Jeff Adrien</td>\n",
       "      <td>1610612744</td>\n",
       "      <td>Golden State Warriors</td>\n",
       "      <td>3</td>\n",
       "      <td>5</td>\n",
       "      <td>1</td>\n",
       "      <td>...</td>\n",
       "      <td>Less Than 8 ft.</td>\n",
       "      <td>0</td>\n",
       "      <td>-6</td>\n",
       "      <td>6</td>\n",
       "      <td>1</td>\n",
       "      <td>1</td>\n",
       "      <td>20101113</td>\n",
       "      <td>MIL</td>\n",
       "      <td>GSW</td>\n",
       "      <td>2010-11</td>\n",
       "    </tr>\n",
       "    <tr>\n",
       "      <th>...</th>\n",
       "      <td>...</td>\n",
       "      <td>...</td>\n",
       "      <td>...</td>\n",
       "      <td>...</td>\n",
       "      <td>...</td>\n",
       "      <td>...</td>\n",
       "      <td>...</td>\n",
       "      <td>...</td>\n",
       "      <td>...</td>\n",
       "      <td>...</td>\n",
       "      <td>...</td>\n",
       "      <td>...</td>\n",
       "      <td>...</td>\n",
       "      <td>...</td>\n",
       "      <td>...</td>\n",
       "      <td>...</td>\n",
       "      <td>...</td>\n",
       "      <td>...</td>\n",
       "      <td>...</td>\n",
       "      <td>...</td>\n",
       "      <td>...</td>\n",
       "    </tr>\n",
       "    <tr>\n",
       "      <th>389</th>\n",
       "      <td>Shot Chart Detail</td>\n",
       "      <td>0022001047</td>\n",
       "      <td>28</td>\n",
       "      <td>1627826</td>\n",
       "      <td>Ivica Zubac</td>\n",
       "      <td>1610612746</td>\n",
       "      <td>LA Clippers</td>\n",
       "      <td>1</td>\n",
       "      <td>9</td>\n",
       "      <td>36</td>\n",
       "      <td>...</td>\n",
       "      <td>Less Than 8 ft.</td>\n",
       "      <td>0</td>\n",
       "      <td>5</td>\n",
       "      <td>3</td>\n",
       "      <td>1</td>\n",
       "      <td>1</td>\n",
       "      <td>20210513</td>\n",
       "      <td>CHA</td>\n",
       "      <td>LAC</td>\n",
       "      <td>2020-21</td>\n",
       "    </tr>\n",
       "    <tr>\n",
       "      <th>390</th>\n",
       "      <td>Shot Chart Detail</td>\n",
       "      <td>0022001047</td>\n",
       "      <td>100</td>\n",
       "      <td>1627826</td>\n",
       "      <td>Ivica Zubac</td>\n",
       "      <td>1610612746</td>\n",
       "      <td>LA Clippers</td>\n",
       "      <td>1</td>\n",
       "      <td>2</td>\n",
       "      <td>53</td>\n",
       "      <td>...</td>\n",
       "      <td>Less Than 8 ft.</td>\n",
       "      <td>6</td>\n",
       "      <td>-60</td>\n",
       "      <td>14</td>\n",
       "      <td>1</td>\n",
       "      <td>0</td>\n",
       "      <td>20210513</td>\n",
       "      <td>CHA</td>\n",
       "      <td>LAC</td>\n",
       "      <td>2020-21</td>\n",
       "    </tr>\n",
       "    <tr>\n",
       "      <th>391</th>\n",
       "      <td>Shot Chart Detail</td>\n",
       "      <td>0022001047</td>\n",
       "      <td>102</td>\n",
       "      <td>1627826</td>\n",
       "      <td>Ivica Zubac</td>\n",
       "      <td>1610612746</td>\n",
       "      <td>LA Clippers</td>\n",
       "      <td>1</td>\n",
       "      <td>2</td>\n",
       "      <td>44</td>\n",
       "      <td>...</td>\n",
       "      <td>Less Than 8 ft.</td>\n",
       "      <td>1</td>\n",
       "      <td>-2</td>\n",
       "      <td>14</td>\n",
       "      <td>1</td>\n",
       "      <td>1</td>\n",
       "      <td>20210513</td>\n",
       "      <td>CHA</td>\n",
       "      <td>LAC</td>\n",
       "      <td>2020-21</td>\n",
       "    </tr>\n",
       "    <tr>\n",
       "      <th>392</th>\n",
       "      <td>Shot Chart Detail</td>\n",
       "      <td>0022001047</td>\n",
       "      <td>358</td>\n",
       "      <td>1627826</td>\n",
       "      <td>Ivica Zubac</td>\n",
       "      <td>1610612746</td>\n",
       "      <td>LA Clippers</td>\n",
       "      <td>3</td>\n",
       "      <td>6</td>\n",
       "      <td>9</td>\n",
       "      <td>...</td>\n",
       "      <td>Less Than 8 ft.</td>\n",
       "      <td>5</td>\n",
       "      <td>28</td>\n",
       "      <td>52</td>\n",
       "      <td>1</td>\n",
       "      <td>1</td>\n",
       "      <td>20210513</td>\n",
       "      <td>CHA</td>\n",
       "      <td>LAC</td>\n",
       "      <td>2020-21</td>\n",
       "    </tr>\n",
       "    <tr>\n",
       "      <th>393</th>\n",
       "      <td>Shot Chart Detail</td>\n",
       "      <td>0022001058</td>\n",
       "      <td>13</td>\n",
       "      <td>1627826</td>\n",
       "      <td>Ivica Zubac</td>\n",
       "      <td>1610612746</td>\n",
       "      <td>LA Clippers</td>\n",
       "      <td>1</td>\n",
       "      <td>10</td>\n",
       "      <td>51</td>\n",
       "      <td>...</td>\n",
       "      <td>24+ ft.</td>\n",
       "      <td>26</td>\n",
       "      <td>3</td>\n",
       "      <td>264</td>\n",
       "      <td>1</td>\n",
       "      <td>1</td>\n",
       "      <td>20210514</td>\n",
       "      <td>HOU</td>\n",
       "      <td>LAC</td>\n",
       "      <td>2020-21</td>\n",
       "    </tr>\n",
       "  </tbody>\n",
       "</table>\n",
       "<p>2174339 rows × 25 columns</p>\n",
       "</div>"
      ],
      "text/plain": [
       "             GRID_TYPE     GAME_ID  GAME_EVENT_ID  PLAYER_ID  PLAYER_NAME  \\\n",
       "0    Shot Chart Detail  0021000043            582     202399  Jeff Adrien   \n",
       "1    Shot Chart Detail  0021000119            288     202399  Jeff Adrien   \n",
       "2    Shot Chart Detail  0021000119            292     202399  Jeff Adrien   \n",
       "3    Shot Chart Detail  0021000137            299     202399  Jeff Adrien   \n",
       "4    Shot Chart Detail  0021000137            308     202399  Jeff Adrien   \n",
       "..                 ...         ...            ...        ...          ...   \n",
       "389  Shot Chart Detail  0022001047             28    1627826  Ivica Zubac   \n",
       "390  Shot Chart Detail  0022001047            100    1627826  Ivica Zubac   \n",
       "391  Shot Chart Detail  0022001047            102    1627826  Ivica Zubac   \n",
       "392  Shot Chart Detail  0022001047            358    1627826  Ivica Zubac   \n",
       "393  Shot Chart Detail  0022001058             13    1627826  Ivica Zubac   \n",
       "\n",
       "        TEAM_ID              TEAM_NAME  PERIOD  MINUTES_REMAINING  \\\n",
       "0    1610612744  Golden State Warriors       4                  0   \n",
       "1    1610612744  Golden State Warriors       3                  6   \n",
       "2    1610612744  Golden State Warriors       3                  5   \n",
       "3    1610612744  Golden State Warriors       3                  5   \n",
       "4    1610612744  Golden State Warriors       3                  5   \n",
       "..          ...                    ...     ...                ...   \n",
       "389  1610612746            LA Clippers       1                  9   \n",
       "390  1610612746            LA Clippers       1                  2   \n",
       "391  1610612746            LA Clippers       1                  2   \n",
       "392  1610612746            LA Clippers       3                  6   \n",
       "393  1610612746            LA Clippers       1                 10   \n",
       "\n",
       "     SECONDS_REMAINING  ...  SHOT_ZONE_RANGE SHOT_DISTANCE LOC_X LOC_Y  \\\n",
       "0                    4  ...  Less Than 8 ft.             1    15     7   \n",
       "1                   23  ...  Less Than 8 ft.             2   -21    11   \n",
       "2                   44  ...         8-16 ft.            14   -88   115   \n",
       "3                   52  ...  Less Than 8 ft.             0    -4     6   \n",
       "4                    1  ...  Less Than 8 ft.             0    -6     6   \n",
       "..                 ...  ...              ...           ...   ...   ...   \n",
       "389                 36  ...  Less Than 8 ft.             0     5     3   \n",
       "390                 53  ...  Less Than 8 ft.             6   -60    14   \n",
       "391                 44  ...  Less Than 8 ft.             1    -2    14   \n",
       "392                  9  ...  Less Than 8 ft.             5    28    52   \n",
       "393                 51  ...          24+ ft.            26     3   264   \n",
       "\n",
       "    SHOT_ATTEMPTED_FLAG SHOT_MADE_FLAG  GAME_DATE  HTM  VTM   SEASON  \n",
       "0                     1              1   20101031  LAL  GSW  2010-11  \n",
       "1                     1              1   20101111  CHI  GSW  2010-11  \n",
       "2                     1              0   20101111  CHI  GSW  2010-11  \n",
       "3                     1              0   20101113  MIL  GSW  2010-11  \n",
       "4                     1              1   20101113  MIL  GSW  2010-11  \n",
       "..                  ...            ...        ...  ...  ...      ...  \n",
       "389                   1              1   20210513  CHA  LAC  2020-21  \n",
       "390                   1              0   20210513  CHA  LAC  2020-21  \n",
       "391                   1              1   20210513  CHA  LAC  2020-21  \n",
       "392                   1              1   20210513  CHA  LAC  2020-21  \n",
       "393                   1              1   20210514  HOU  LAC  2020-21  \n",
       "\n",
       "[2174339 rows x 25 columns]"
      ]
     },
     "execution_count": 115,
     "metadata": {},
     "output_type": "execute_result"
    }
   ],
   "source": [
    "nba_shotchart"
   ]
  }
 ],
 "metadata": {
  "kernelspec": {
   "display_name": "Python 3",
   "language": "python",
   "name": "python3"
  },
  "language_info": {
   "codemirror_mode": {
    "name": "ipython",
    "version": 3
   },
   "file_extension": ".py",
   "mimetype": "text/x-python",
   "name": "python",
   "nbconvert_exporter": "python",
   "pygments_lexer": "ipython3",
   "version": "3.8.5"
  }
 },
 "nbformat": 4,
 "nbformat_minor": 4
}
